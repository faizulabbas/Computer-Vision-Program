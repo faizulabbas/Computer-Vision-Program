{
 "cells": [
  {
   "cell_type": "code",
   "execution_count": 1,
   "id": "d5ee88c1",
   "metadata": {},
   "outputs": [
    {
     "name": "stdout",
     "output_type": "stream",
     "text": [
      "Requirement already satisfied: opencv-python in /opt/anaconda3/lib/python3.9/site-packages (4.7.0.68)\n",
      "Requirement already satisfied: numpy>=1.19.3 in /opt/anaconda3/lib/python3.9/site-packages (from opencv-python) (1.21.5)\n"
     ]
    }
   ],
   "source": [
    "!pip3 install opencv-python"
   ]
  },
  {
   "cell_type": "code",
   "execution_count": 2,
   "id": "069c559a",
   "metadata": {},
   "outputs": [],
   "source": [
    "import cv2"
   ]
  },
  {
   "cell_type": "code",
   "execution_count": 3,
   "id": "427c3009",
   "metadata": {},
   "outputs": [],
   "source": [
    "import pathlib"
   ]
  },
  {
   "cell_type": "code",
   "execution_count": 4,
   "id": "6502bca0",
   "metadata": {},
   "outputs": [],
   "source": [
    "#import video\n",
    "vid=cv2.VideoCapture('/Users/faizulabbas/Desktop/Tasks/Vid.mp4')"
   ]
  },
  {
   "cell_type": "code",
   "execution_count": 6,
   "id": "f9ea3a33",
   "metadata": {},
   "outputs": [
    {
     "name": "stdout",
     "output_type": "stream",
     "text": [
      "frames per second = 25.0\n"
     ]
    }
   ],
   "source": [
    "fps = vid.get(cv2.CAP_PROP_FPS)\n",
    "print('frames per second =',fps)"
   ]
  },
  {
   "cell_type": "code",
   "execution_count": 7,
   "id": "0e430f1a",
   "metadata": {},
   "outputs": [
    {
     "data": {
      "text/plain": [
       "25.0"
      ]
     },
     "execution_count": 7,
     "metadata": {},
     "output_type": "execute_result"
    }
   ],
   "source": [
    "fps"
   ]
  },
  {
   "cell_type": "code",
   "execution_count": null,
   "id": "d8eb1f1f",
   "metadata": {},
   "outputs": [
    {
     "name": "stderr",
     "output_type": "stream",
     "text": [
      "1   HIToolbox                           0x00007ff80d31552b _ZN15MenuBarInstance21IsAutoShowHideAllowedEv + 259\n",
      "2   HIToolbox                           0x00007ff80d20e33e _ZN15MenuBarInstance24UpdateAutoShowVisibilityE5Pointh + 34\n",
      "3   HIToolbox                           0x00007ff80d20e2b3 _ZN15MenuBarInstance14EnableAutoShowEv + 47\n",
      "4   HIToolbox                           0x00007ff80d1b2908 SetMenuBarObscured + 408\n",
      "5   HIToolbox                           0x00007ff80d1b24ca _ZN13HIApplication15HandleActivatedEP14OpaqueEventRefhP15OpaqueWindowPtrh + 164\n",
      "6   HIToolbox                           0x00007ff80d1ac996 _ZN13HIApplication13EventObserverEjP14OpaqueEventRefPv + 252\n",
      "7   HIToolbox                           0x00007ff80d174bd2 _NotifyEventLoopObservers + 153\n",
      "8   HIToolbox                           0x00007ff80d1ac3e6 AcquireEventFromQueue + 494\n",
      "9   HIToolbox                           0x00007ff80d19b3ec ReceiveNextEventCommon + 285\n",
      "10  HIToolbox                           0x00007ff80d19b2b3 _BlockUntilNextEventMatchingListInModeWithFilter + 70\n",
      "11  AppKit                              0x00007ff806398f33 _DPSNextEvent + 909\n",
      "12  AppKit                              0x00007ff806397db4 -[NSApplication(NSEvent) _nextEventMatchingEventMask:untilDate:inMode:dequeue:] + 1219\n",
      "13  cv2.abi3.so                         0x00000001340d812c cvWaitKey + 348\n",
      "14  cv2.abi3.so                         0x00000001340d1a06 _ZN2cv9waitKeyExEi + 198\n",
      "15  cv2.abi3.so                         0x00000001340d1b14 _ZN2cv7waitKeyEi + 36\n",
      "16  cv2.abi3.so                         0x0000000133273e34 _ZL19pyopencv_cv_waitKeyP7_objectS0_S0_ + 148\n",
      "17  python3.9                           0x0000000104485da4 cfunction_call + 52\n",
      "18  python3.9                           0x0000000104429e86 _PyObject_MakeTpCall + 134\n",
      "19  python3.9                           0x0000000104557ee7 call_function + 311\n",
      "20  python3.9                           0x0000000104550c51 _PyEval_EvalFrameDefault + 27521\n",
      "21  python3.9                           0x0000000104548a09 _PyEval_EvalCode + 489\n",
      "22  python3.9                           0x0000000104542f09 builtin_exec + 377\n",
      "23  python3.9                           0x0000000104486755 cfunction_vectorcall_FASTCALL + 85\n",
      "24  python3.9                           0x0000000104557e5e call_function + 174\n",
      "25  python3.9                           0x000000010454ff3d _PyEval_EvalFrameDefault + 24173\n",
      "26  python3.9                           0x0000000104443ccf gen_send_ex + 175\n",
      "27  python3.9                           0x0000000104552013 _PyEval_EvalFrameDefault + 32579\n",
      "28  python3.9                           0x0000000104443ccf gen_send_ex + 175\n",
      "29  python3.9                           0x0000000104552013 _PyEval_EvalFrameDefault + 32579\n",
      "30  python3.9                           0x0000000104443ccf gen_send_ex + 175\n",
      "31  python3.9                           0x0000000104438967 method_vectorcall_O + 103\n",
      "32  python3.9                           0x0000000104557e5e call_function + 174\n",
      "33  python3.9                           0x000000010454f8fa _PyEval_EvalFrameDefault + 22570\n",
      "34  python3.9                           0x000000010442abcb function_code_fastcall + 139\n",
      "35  python3.9                           0x0000000104557e5e call_function + 174\n",
      "36  python3.9                           0x000000010454ff3d _PyEval_EvalFrameDefault + 24173\n",
      "37  python3.9                           0x000000010442abcb function_code_fastcall + 139\n",
      "38  python3.9                           0x0000000104557e5e call_function + 174\n",
      "39  python3.9                           0x000000010454f8fa _PyEval_EvalFrameDefault + 22570\n",
      "40  python3.9                           0x0000000104548a09 _PyEval_EvalCode + 489\n",
      "41  python3.9                           0x000000010442ab0c _PyFunction_Vectorcall + 236\n",
      "42  python3.9                           0x000000010442de2e method_vectorcall + 158\n",
      "43  python3.9                           0x000000010442a783 PyVectorcall_Call + 163\n",
      "44  python3.9                           0x000000010454f7d6 _PyEval_EvalFrameDefault + 22278\n",
      "45  python3.9                           0x0000000104548a09 _PyEval_EvalCode + 489\n",
      "46  python3.9                           0x000000010442ab0c _PyFunction_Vectorcall + 236\n",
      "47  python3.9                           0x000000010442de2e method_vectorcall + 158\n",
      "48  python3.9                           0x0000000104557e5e call_function + 174\n",
      "49  python3.9                           0x000000010454b252 _PyEval_EvalFrameDefault + 4482\n",
      "50  python3.9                           0x0000000104443ccf gen_send_ex + 175\n",
      "51  python3.9                           0x0000000104552013 _PyEval_EvalFrameDefault + 32579\n",
      "52  python3.9                           0x0000000104443ccf gen_send_ex + 175\n",
      "53  python3.9                           0x0000000104552013 _PyEval_EvalFrameDefault + 32579\n",
      "54  python3.9                           0x0000000104443ccf gen_send_ex + 175\n",
      "55  python3.9                           0x0000000104552013 _PyEval_EvalFrameDefault + 32579\n",
      "56  python3.9                           0x0000000104443ccf gen_send_ex + 175\n",
      "57  python3.9                           0x0000000104552013 _PyEval_EvalFrameDefault + 32579\n",
      "58  python3.9                           0x0000000104443ccf gen_send_ex + 175\n",
      "59  _asyncio.cpython-39-darwin.so       0x000000010dc6297a task_step_impl + 442\n",
      "60  _asyncio.cpython-39-darwin.so       0x000000010dc6272e task_step + 62\n",
      "61  _asyncio.cpython-39-darwin.so       0x000000010dc625c8 task_wakeup + 104\n",
      "62  _asyncio.cpython-39-darwin.so       0x000000010dc624bd TaskWakeupMethWrapper_call + 109\n",
      "63  python3.9                           0x0000000104429e86 _PyObject_MakeTpCall + 134\n",
      "64  python3.9                           0x0000000104573641 context_run + 81\n",
      "65  python3.9                           0x000000010448668c cfunction_vectorcall_FASTCALL_KEYWORDS + 76\n",
      "66  python3.9                           0x000000010454f7d6 _PyEval_EvalFrameDefault + 22278\n",
      "67  python3.9                           0x000000010442abcb function_code_fastcall + 139\n",
      "68  python3.9                           0x0000000104557e5e call_function + 174\n",
      "69  python3.9                           0x000000010454f8fa _PyEval_EvalFrameDefault + 22570\n",
      "70  python3.9                           0x000000010442abcb function_code_fastcall + 139\n",
      "71  python3.9                           0x0000000104557e5e call_function + 174\n",
      "72  python3.9                           0x000000010454f8fa _PyEval_EvalFrameDefault + 22570\n",
      "73  python3.9                           0x000000010442abcb function_code_fastcall + 139\n",
      "74  python3.9                           0x0000000104557e5e call_function + 174\n",
      "75  python3.9                           0x000000010454f8fa _PyEval_EvalFrameDefault + 22570\n",
      "76  python3.9                           0x000000010442abcb function_code_fastcall + 139\n",
      "77  python3.9                           0x0000000104557e5e call_function + 174\n",
      "78  python3.9                           0x000000010454f8fa _PyEval_EvalFrameDefault + 22570\n",
      "79  python3.9                           0x000000010442abcb function_code_fastcall + 139\n",
      "80  python3.9                           0x0000000104557e5e call_function + 174\n",
      "81  python3.9                           0x000000010454f8fa _PyEval_EvalFrameDefault + 22570\n",
      "82  python3.9                           0x0000000104548a09 _PyEval_EvalCode + 489\n",
      "83  python3.9                           0x000000010442ab0c _PyFunction_Vectorcall + 236\n",
      "84  python3.9                           0x000000010442de2e method_vectorcall + 158\n",
      "85  python3.9                           0x0000000104557e5e call_function + 174\n",
      "86  python3.9                           0x0000000104550c51 _PyEval_EvalFrameDefault + 27521\n",
      "87  python3.9                           0x0000000104548a09 _PyEval_EvalCode + 489\n",
      "88  python3.9                           0x0000000104542f09 builtin_exec + 377\n",
      "89  python3.9                           0x0000000104486755 cfunction_vectorcall_FASTCALL + 85\n",
      "90  python3.9                           0x0000000104557e5e call_function + 174\n",
      "91  python3.9                           0x000000010454ff3d _PyEval_EvalFrameDefault + 24173\n",
      "92  python3.9                           0x0000000104548a09 _PyEval_EvalCode + 489\n",
      "93  python3.9                           0x000000010442ab0c _PyFunction_Vectorcall + 236\n",
      "94  python3.9                           0x0000000104557e5e call_function + 174\n",
      "95  python3.9                           0x000000010454ff3d _PyEval_EvalFrameDefault + 24173\n",
      "96  python3.9                           0x0000000104548a09 _PyEval_EvalCode + 489\n",
      "97  python3.9                           0x000000010442ab0c _PyFunction_Vectorcall + 236\n",
      "98  python3.9                           0x00000001045dc142 pymain_run_module + 258\n",
      "99  python3.9                           0x00000001045dba01 pymain_run_python + 241\n",
      "100 python3.9                           0x00000001045db8c5 Py_RunMain + 37\n",
      "101 python3.9                           0x00000001045dcf90 pymain_main + 64\n",
      "102 python3.9                           0x00000001043c1408 main + 56\n",
      "103 dyld                                0x000000020490b310 start + 2432\n",
      "1   HIToolbox                           0x00007ff80d31552b _ZN15MenuBarInstance21IsAutoShowHideAllowedEv + 259\n",
      "2   HIToolbox                           0x00007ff80d20e33e _ZN15MenuBarInstance24UpdateAutoShowVisibilityE5Pointh + 34\n",
      "3   HIToolbox                           0x00007ff80d211ec6 _ZL19AutoShowHideHandlerP25OpaqueEventHandlerCallRefP14OpaqueEventRefPv + 83\n",
      "4   HIToolbox                           0x00007ff80d17548d _ZL23DispatchEventToHandlersP14EventTargetRecP14OpaqueEventRefP14HandlerCallRec + 1381\n",
      "5   HIToolbox                           0x00007ff80d1748cc _ZL30SendEventToEventTargetInternalP14OpaqueEventRefP20OpaqueEventTargetRefP14HandlerCallRec + 333\n",
      "6   HIToolbox                           0x00007ff80d174773 SendEventToEventTargetWithOptions + 45\n",
      "7   HIToolbox                           0x00007ff80d1b3229 _ZL29ToolboxEventDispatcherHandlerP25OpaqueEventHandlerCallRefP14OpaqueEventRefPv + 1312\n",
      "8   HIToolbox                           0x00007ff80d175936 _ZL23DispatchEventToHandlersP14EventTargetRecP14OpaqueEventRefP14HandlerCallRec + 2574\n",
      "9   HIToolbox                           0x00007ff80d1748cc _ZL30SendEventToEventTargetInternalP14OpaqueEventRefP20OpaqueEventTargetRefP14HandlerCallRec + 333\n",
      "10  HIToolbox                           0x00007ff80d189529 SendEventToEventTarget + 39\n",
      "11  AppKit                              0x00007ff80639834d -[NSApplication(NSEvent) _nextEventMatchingEventMask:untilDate:inMode:dequeue:] + 2652\n",
      "12  cv2.abi3.so                         0x00000001340d812c cvWaitKey + 348\n",
      "13  cv2.abi3.so                         0x00000001340d1a06 _ZN2cv9waitKeyExEi + 198\n",
      "14  cv2.abi3.so                         0x00000001340d1b14 _ZN2cv7waitKeyEi + 36\n",
      "15  cv2.abi3.so                         0x0000000133273e34 _ZL19pyopencv_cv_waitKeyP7_objectS0_S0_ + 148\n",
      "16  python3.9                           0x0000000104485da4 cfunction_call + 52\n",
      "17  python3.9                           0x0000000104429e86 _PyObject_MakeTpCall + 134\n",
      "18  python3.9                           0x0000000104557ee7 call_function + 311\n",
      "19  python3.9                           0x0000000104550c51 _PyEval_EvalFrameDefault + 27521\n",
      "20  python3.9                           0x0000000104548a09 _PyEval_EvalCode + 489\n",
      "21  python3.9                           0x0000000104542f09 builtin_exec + 377\n",
      "22  python3.9                           0x0000000104486755 cfunction_vectorcall_FASTCALL + 85\n",
      "23  python3.9                           0x0000000104557e5e call_function + 174\n",
      "24  python3.9                           0x000000010454ff3d _PyEval_EvalFrameDefault + 24173\n",
      "25  python3.9                           0x0000000104443ccf gen_send_ex + 175\n",
      "26  python3.9                           0x0000000104552013 _PyEval_EvalFrameDefault + 32579\n",
      "27  python3.9                           0x0000000104443ccf gen_send_ex + 175\n",
      "28  python3.9                           0x0000000104552013 _PyEval_EvalFrameDefault + 32579\n",
      "29  python3.9                           0x0000000104443ccf gen_send_ex + 175\n",
      "30  python3.9                           0x0000000104438967 method_vectorcall_O + 103\n",
      "31  python3.9                           0x0000000104557e5e call_function + 174\n",
      "32  python3.9                           0x000000010454f8fa _PyEval_EvalFrameDefault + 22570\n",
      "33  python3.9                           0x000000010442abcb function_code_fastcall + 139\n",
      "34  python3.9                           0x0000000104557e5e call_function + 174\n",
      "35  python3.9                           0x000000010454ff3d _PyEval_EvalFrameDefault + 24173\n",
      "36  python3.9                           0x000000010442abcb function_code_fastcall + 139\n",
      "37  python3.9                           0x0000000104557e5e call_function + 174\n",
      "38  python3.9                           0x000000010454f8fa _PyEval_EvalFrameDefault + 22570\n",
      "39  python3.9                           0x0000000104548a09 _PyEval_EvalCode + 489\n",
      "40  python3.9                           0x000000010442ab0c _PyFunction_Vectorcall + 236\n",
      "41  python3.9                           0x000000010442de2e method_vectorcall + 158\n",
      "42  python3.9                           0x000000010442a783 PyVectorcall_Call + 163\n",
      "43  python3.9                           0x000000010454f7d6 _PyEval_EvalFrameDefault + 22278\n",
      "44  python3.9                           0x0000000104548a09 _PyEval_EvalCode + 489\n",
      "45  python3.9                           0x000000010442ab0c _PyFunction_Vectorcall + 236\n",
      "46  python3.9                           0x000000010442de2e method_vectorcall + 158\n",
      "47  python3.9                           0x0000000104557e5e call_function + 174\n",
      "48  python3.9                           0x000000010454b252 _PyEval_EvalFrameDefault + 4482\n",
      "49  python3.9                           0x0000000104443ccf gen_send_ex + 175\n",
      "50  python3.9                           0x0000000104552013 _PyEval_EvalFrameDefault + 32579\n",
      "51  python3.9                           0x0000000104443ccf gen_send_ex + 175\n",
      "52  python3.9                           0x0000000104552013 _PyEval_EvalFrameDefault + 32579\n",
      "53  python3.9                           0x0000000104443ccf gen_send_ex + 175\n",
      "54  python3.9                           0x0000000104552013 _PyEval_EvalFrameDefault + 32579\n",
      "55  python3.9                           0x0000000104443ccf gen_send_ex + 175\n",
      "56  python3.9                           0x0000000104552013 _PyEval_EvalFrameDefault + 32579\n",
      "57  python3.9                           0x0000000104443ccf gen_send_ex + 175\n",
      "58  _asyncio.cpython-39-darwin.so       0x000000010dc6297a task_step_impl + 442\n",
      "59  _asyncio.cpython-39-darwin.so       0x000000010dc6272e task_step + 62\n",
      "60  _asyncio.cpython-39-darwin.so       0x000000010dc625c8 task_wakeup + 104\n",
      "61  _asyncio.cpython-39-darwin.so       0x000000010dc624bd TaskWakeupMethWrapper_call + 109\n",
      "62  python3.9                           0x0000000104429e86 _PyObject_MakeTpCall + 134\n",
      "63  python3.9                           0x0000000104573641 context_run + 81\n",
      "64  python3.9                           0x000000010448668c cfunction_vectorcall_FASTCALL_KEYWORDS + 76\n",
      "65  python3.9                           0x000000010454f7d6 _PyEval_EvalFrameDefault + 22278\n",
      "66  python3.9                           0x000000010442abcb function_code_fastcall + 139\n",
      "67  python3.9                           0x0000000104557e5e call_function + 174\n",
      "68  python3.9                           0x000000010454f8fa _PyEval_EvalFrameDefault + 22570\n",
      "69  python3.9                           0x000000010442abcb function_code_fastcall + 139\n",
      "70  python3.9                           0x0000000104557e5e call_function + 174\n",
      "71  python3.9                           0x000000010454f8fa _PyEval_EvalFrameDefault + 22570\n",
      "72  python3.9                           0x000000010442abcb function_code_fastcall + 139\n",
      "73  python3.9                           0x0000000104557e5e call_function + 174\n",
      "74  python3.9                           0x000000010454f8fa _PyEval_EvalFrameDefault + 22570\n",
      "75  python3.9                           0x000000010442abcb function_code_fastcall + 139\n",
      "76  python3.9                           0x0000000104557e5e call_function + 174\n",
      "77  python3.9                           0x000000010454f8fa _PyEval_EvalFrameDefault + 22570\n",
      "78  python3.9                           0x000000010442abcb function_code_fastcall + 139\n",
      "79  python3.9                           0x0000000104557e5e call_function + 174\n",
      "80  python3.9                           0x000000010454f8fa _PyEval_EvalFrameDefault + 22570\n",
      "81  python3.9                           0x0000000104548a09 _PyEval_EvalCode + 489\n",
      "82  python3.9                           0x000000010442ab0c _PyFunction_Vectorcall + 236\n",
      "83  python3.9                           0x000000010442de2e method_vectorcall + 158\n",
      "84  python3.9                           0x0000000104557e5e call_function + 174\n",
      "85  python3.9                           0x0000000104550c51 _PyEval_EvalFrameDefault + 27521\n",
      "86  python3.9                           0x0000000104548a09 _PyEval_EvalCode + 489\n",
      "87  python3.9                           0x0000000104542f09 builtin_exec + 377\n",
      "88  python3.9                           0x0000000104486755 cfunction_vectorcall_FASTCALL + 85\n",
      "89  python3.9                           0x0000000104557e5e call_function + 174\n",
      "90  python3.9                           0x000000010454ff3d _PyEval_EvalFrameDefault + 24173\n",
      "91  python3.9                           0x0000000104548a09 _PyEval_EvalCode + 489\n",
      "92  python3.9                           0x000000010442ab0c _PyFunction_Vectorcall + 236\n",
      "93  python3.9                           0x0000000104557e5e call_function + 174\n",
      "94  python3.9                           0x000000010454ff3d _PyEval_EvalFrameDefault + 24173\n",
      "95  python3.9                           0x0000000104548a09 _PyEval_EvalCode + 489\n",
      "96  python3.9                           0x000000010442ab0c _PyFunction_Vectorcall + 236\n",
      "97  python3.9                           0x00000001045dc142 pymain_run_module + 258\n",
      "98  python3.9                           0x00000001045dba01 pymain_run_python + 241\n",
      "99  python3.9                           0x00000001045db8c5 Py_RunMain + 37\n",
      "100 python3.9                           0x00000001045dcf90 pymain_main + 64\n",
      "101 python3.9                           0x00000001043c1408 main + 56\n",
      "102 dyld                                0x000000020490b310 start + 2432\n"
     ]
    }
   ],
   "source": [
    "while True:\n",
    "    # Capture frame-by-frame\n",
    "    ret, frame = vid.read()\n",
    "    gray = cv2.cvtColor(frame, cv2.COLOR_BGR2GRAY)\n",
    "    faces= fc.detectMultiScale(gray,scaleFactor=1.1,minNeighbors=5,minSize=(30, 30))\n",
    "\n",
    "    # Draw a rectangle around the faces\n",
    "    for (x, y, w, h) in faces:\n",
    "        cv2.rectangle(frame, (x, y), (x+w, y+h), (0,255,0), 2)\n",
    "\n",
    "    # Display the resulting frame\n",
    "    cv2.imshow('Vid', frame)\n",
    "\n",
    "    if cv2.waitKey(1) & 0xFF == ord('q'):\n",
    "        break\n",
    "\n",
    "# When everything is done, release the capture\n",
    "vid.release()\n",
    "cv2.destroyAllWindows()"
   ]
  },
  {
   "cell_type": "code",
   "execution_count": null,
   "id": "add9d859",
   "metadata": {},
   "outputs": [],
   "source": [
    "faceCascade = cv2.CascadeClassifier(cascPath)"
   ]
  },
  {
   "cell_type": "code",
   "execution_count": null,
   "id": "e9e6a70f",
   "metadata": {},
   "outputs": [],
   "source": [
    "#finding a frame at a particular time\n",
    "minutes = 0\n",
    "seconds = 28\n",
    "frame_id = int(fps*(minutes*60 + seconds))\n",
    "print('frame id =',frame_id)"
   ]
  },
  {
   "cell_type": "code",
   "execution_count": null,
   "id": "de9e4e6e",
   "metadata": {},
   "outputs": [],
   "source": [
    "#extracting \n",
    "vid.set(cv2.CAP_PROP_POS_FRAMES, frame_id)\n",
    "ret, frame1 = vid.read()"
   ]
  },
  {
   "cell_type": "code",
   "execution_count": null,
   "id": "7525fef8",
   "metadata": {},
   "outputs": [],
   "source": [
    "#displaying \n",
    "cv2.imshow('frame1', frame1); cv2.waitKey(0)\n",
    "cv2.imwrite('my_video_frame.mp4', frame1)"
   ]
  },
  {
   "cell_type": "code",
   "execution_count": null,
   "id": "9e3cd197",
   "metadata": {},
   "outputs": [],
   "source": []
  }
 ],
 "metadata": {
  "kernelspec": {
   "display_name": "Python 3 (ipykernel)",
   "language": "python",
   "name": "python3"
  },
  "language_info": {
   "codemirror_mode": {
    "name": "ipython",
    "version": 3
   },
   "file_extension": ".py",
   "mimetype": "text/x-python",
   "name": "python",
   "nbconvert_exporter": "python",
   "pygments_lexer": "ipython3",
   "version": "3.9.12"
  }
 },
 "nbformat": 4,
 "nbformat_minor": 5
}
